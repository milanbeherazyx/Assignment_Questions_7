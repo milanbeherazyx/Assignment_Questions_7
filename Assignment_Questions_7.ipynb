{
  "nbformat": 4,
  "nbformat_minor": 0,
  "metadata": {
    "colab": {
      "provenance": []
    },
    "kernelspec": {
      "name": "python3",
      "display_name": "Python 3"
    },
    "language_info": {
      "name": "python"
    }
  },
  "cells": [
    {
      "cell_type": "markdown",
      "source": [
        "<aside>\n",
        "💡 **Question 1**\n",
        "\n",
        "Given two strings s and t, *determine if they are isomorphic*.\n",
        "\n",
        "Two strings s and t are isomorphic if the characters in s can be replaced to get t.\n",
        "\n",
        "All occurrences of a character must be replaced with another character while preserving the order of characters. No two characters may map to the same character, but a character may map to itself.\n",
        "\n",
        "**Example 1:**\n",
        "\n",
        "**Input:** s = \"egg\", t = \"add\"\n",
        "\n",
        "**Output:** true\n",
        "\n",
        "</aside>"
      ],
      "metadata": {
        "id": "6FbeJVv1SP-e"
      }
    },
    {
      "cell_type": "code",
      "source": [
        "class Solution(object):\n",
        "    def isIsomorphic(self, s, t):\n",
        "        char_map = {}\n",
        "\n",
        "        def isIsomorphicHelper(i, j):\n",
        "            if i == len(s) and j == len(t):\n",
        "                return True\n",
        "            if i == len(s) or j == len(t):\n",
        "                return False\n",
        "\n",
        "            if s[i] in char_map:\n",
        "                if char_map[s[i]] != t[j]:\n",
        "                    return False\n",
        "            else:\n",
        "                char_map[s[i]] = t[j]\n",
        "\n",
        "            return isIsomorphicHelper(i + 1, j + 1)\n",
        "\n",
        "        return isIsomorphicHelper(0, 0)\n",
        "\n",
        "s = \"egg\"\n",
        "t = \"add\"\n",
        "\n",
        "solution = Solution()\n",
        "print(solution.isIsomorphic(s, t))"
      ],
      "metadata": {
        "colab": {
          "base_uri": "https://localhost:8080/"
        },
        "id": "NbRLcXzkSR8O",
        "outputId": "9ed93bf4-3b37-48eb-bdad-2edd74fd1b96"
      },
      "execution_count": 1,
      "outputs": [
        {
          "output_type": "stream",
          "name": "stdout",
          "text": [
            "True\n"
          ]
        }
      ]
    },
    {
      "cell_type": "markdown",
      "source": [
        "<aside>\n",
        "💡 **Question 2**\n",
        "\n",
        "Given a string num which represents an integer, return true *if* num *is a **strobogrammatic number***.\n",
        "\n",
        "A **strobogrammatic number** is a number that looks the same when rotated 180 degrees (looked at upside down).\n",
        "\n",
        "**Example 1:**\n",
        "\n",
        "**Input:** num = \"69\"\n",
        "\n",
        "**Output:**\n",
        "\n",
        "true\n",
        "\n",
        "</aside>"
      ],
      "metadata": {
        "id": "16P1qht6Sm7V"
      }
    },
    {
      "cell_type": "code",
      "source": [
        "class Solution(object):\n",
        "    def isStrobogrammatic(self, num):\n",
        "        def isStrobogrammaticHelper(left, right):\n",
        "            if left > right:\n",
        "                return True\n",
        "\n",
        "            if num[left] == num[right]:\n",
        "                if num[left] not in [\"0\", \"1\", \"8\"]:\n",
        "                    return False\n",
        "            elif (num[left] == \"6\" and num[right] != \"9\") or (num[left] == \"9\" and num[right] != \"6\"):\n",
        "                return False\n",
        "\n",
        "            return isStrobogrammaticHelper(left + 1, right - 1)\n",
        "\n",
        "        return isStrobogrammaticHelper(0, len(num) - 1)\n",
        "\n",
        "num = \"69\"\n",
        "\n",
        "solution = Solution()\n",
        "print(solution.isStrobogrammatic(num))\n"
      ],
      "metadata": {
        "colab": {
          "base_uri": "https://localhost:8080/"
        },
        "id": "LpuJNeIVSdaI",
        "outputId": "9455375b-1e29-4052-875e-eb081c7e8fc7"
      },
      "execution_count": 3,
      "outputs": [
        {
          "output_type": "stream",
          "name": "stdout",
          "text": [
            "True\n"
          ]
        }
      ]
    },
    {
      "cell_type": "markdown",
      "source": [
        "<aside>\n",
        "💡 **Question 3**\n",
        "\n",
        "Given two non-negative integers, num1 and num2 represented as string, return *the sum of* num1 *and* num2 *as a string*.\n",
        "\n",
        "You must solve the problem without using any built-in library for handling large integers (such as BigInteger). You must also not convert the inputs to integers directly.\n",
        "\n",
        "**Example 1:**\n",
        "\n",
        "**Input:** num1 = \"11\", num2 = \"123\"\n",
        "\n",
        "**Output:**\n",
        "\n",
        "\"134\"\n",
        "\n",
        "</aside>"
      ],
      "metadata": {
        "id": "G54m_edRTT_U"
      }
    },
    {
      "cell_type": "code",
      "source": [
        "class Solution(object):\n",
        "    def addStrings(self, num1, num2):\n",
        "        i = len(num1) - 1\n",
        "        j = len(num2) - 1\n",
        "        carry = 0\n",
        "        result = []\n",
        "\n",
        "        while i >= 0 or j >= 0 or carry > 0:\n",
        "            digit1 = int(num1[i]) if i >= 0 else 0\n",
        "            digit2 = int(num2[j]) if j >= 0 else 0\n",
        "\n",
        "            total = digit1 + digit2 + carry\n",
        "            new_digit = total % 10\n",
        "            carry = total // 10\n",
        "\n",
        "            result.append(str(new_digit))\n",
        "\n",
        "            i -= 1\n",
        "            j -= 1\n",
        "\n",
        "        return ''.join(result[::-1])\n",
        "\n",
        "num1 = \"11\"\n",
        "num2 = \"123\"\n",
        "\n",
        "solution = Solution()\n",
        "print(solution.addStrings(num1, num2))"
      ],
      "metadata": {
        "colab": {
          "base_uri": "https://localhost:8080/"
        },
        "id": "IZIZFOGAUc7w",
        "outputId": "cd1cb5f4-477c-4890-efd2-80454a7a5ade"
      },
      "execution_count": 7,
      "outputs": [
        {
          "output_type": "stream",
          "name": "stdout",
          "text": [
            "134\n"
          ]
        }
      ]
    },
    {
      "cell_type": "markdown",
      "source": [
        "<aside>\n",
        "💡 **Question 4**\n",
        "\n",
        "Given a string s, reverse the order of characters in each word within a sentence while still preserving whitespace and initial word order.\n",
        "\n",
        "**Example 1:**\n",
        "\n",
        "**Input:** s = \"Let's take LeetCode contest\"\n",
        "\n",
        "**Output:** \"s'teL ekat edoCteeL tsetnoc\"\n",
        "\n",
        "</aside>"
      ],
      "metadata": {
        "id": "XwaMA5jCUtxm"
      }
    },
    {
      "cell_type": "code",
      "source": [
        "class Solution(object):\n",
        "    def reverseWords(self, s):\n",
        "        words = s.split()\n",
        "        reversed_words = [word[::-1] for word in words]\n",
        "        reversed_sentence = \" \".join(reversed_words)\n",
        "        return reversed_sentence\n",
        "\n",
        "\n",
        "\n",
        "s = \"Let's take LeetCode contest\"\n",
        "\n",
        "solution = Solution()\n",
        "print(solution.reverseWords(s))"
      ],
      "metadata": {
        "colab": {
          "base_uri": "https://localhost:8080/"
        },
        "id": "GSBclzoeUnIV",
        "outputId": "f0ebeeb7-13ad-41f7-9b53-a53fc486b19b"
      },
      "execution_count": 11,
      "outputs": [
        {
          "output_type": "stream",
          "name": "stdout",
          "text": [
            "s'teL ekat edoCteeL tsetnoc\n"
          ]
        }
      ]
    },
    {
      "cell_type": "markdown",
      "source": [
        "<aside>\n",
        "💡 **Question 5**\n",
        "\n",
        "Given a string s and an integer k, reverse the first k characters for every 2k characters counting from the start of the string.\n",
        "\n",
        "If there are fewer than k characters left, reverse all of them. If there are less than 2k but greater than or equal to k characters, then reverse the first k characters and leave the other as original.\n",
        "\n",
        "**Example 1:**\n",
        "\n",
        "**Input:** s = \"abcdefg\", k = 2\n",
        "\n",
        "**Output:**\n",
        "\n",
        "\"bacdfeg\"\n",
        "\n",
        "</aside>"
      ],
      "metadata": {
        "id": "225YWCFeVetZ"
      }
    },
    {
      "cell_type": "code",
      "source": [
        "class Solution(object):\n",
        "    def reverseStr(self, s, k):\n",
        "        chars = list(s)\n",
        "        n = len(chars)\n",
        "\n",
        "        for i in range(0, n, 2 * k):\n",
        "            left = i\n",
        "            right = min(i + k - 1, n - 1)\n",
        "\n",
        "            # Reverse the first k characters\n",
        "            while left < right:\n",
        "                chars[left], chars[right] = chars[right], chars[left]\n",
        "                left += 1\n",
        "                right -= 1\n",
        "\n",
        "        return ''.join(chars)\n",
        "\n",
        "\n",
        "s = \"abcdefg\"\n",
        "k = 2\n",
        "\n",
        "solution = Solution()\n",
        "print(solution.reverseStr(s, k))"
      ],
      "metadata": {
        "colab": {
          "base_uri": "https://localhost:8080/"
        },
        "id": "kX3Qxsq1VARh",
        "outputId": "7ceb1698-4892-4171-9db6-0054dbdefe8a"
      },
      "execution_count": 1,
      "outputs": [
        {
          "output_type": "stream",
          "name": "stdout",
          "text": [
            "bacdfeg\n"
          ]
        }
      ]
    },
    {
      "cell_type": "markdown",
      "source": [
        "<aside>\n",
        "💡 **Question 6**\n",
        "\n",
        "Given two strings s and goal, return true *if and only if* s *can become* goal *after some number of **shifts** on* s.\n",
        "\n",
        "A **shift** on s consists of moving the leftmost character of s to the rightmost position.\n",
        "\n",
        "- For example, if s = \"abcde\", then it will be \"bcdea\" after one shift.\n",
        "\n",
        "**Example 1:**\n",
        "\n",
        "**Input:** s = \"abcde\", goal = \"cdeab\"\n",
        "\n",
        "**Output:**\n",
        "\n",
        "true\n",
        "\n",
        "</aside>"
      ],
      "metadata": {
        "id": "MaT3rvBdWahJ"
      }
    },
    {
      "cell_type": "code",
      "source": [
        "class Solution(object):\n",
        "    def rotateString(self, s, goal):\n",
        "        concatenated = s + s\n",
        "        if goal in concatenated:\n",
        "            return True\n",
        "        return False\n",
        "\n",
        "\n",
        "s = \"abcde\"\n",
        "goal = \"cdeab\"\n",
        "\n",
        "solution = Solution()\n",
        "print(solution.rotateString(s, goal))  # Output: True\n"
      ],
      "metadata": {
        "colab": {
          "base_uri": "https://localhost:8080/"
        },
        "id": "d3mrSerzVxSJ",
        "outputId": "d47c4fc5-b2ba-4f52-efef-ba7418570f47"
      },
      "execution_count": 2,
      "outputs": [
        {
          "output_type": "stream",
          "name": "stdout",
          "text": [
            "True\n"
          ]
        }
      ]
    },
    {
      "cell_type": "markdown",
      "source": [
        "<aside>\n",
        "💡 **Question 7**\n",
        "\n",
        "Given two strings s and t, return true *if they are equal when both are typed into empty text editors*. '#' means a backspace character.\n",
        "\n",
        "Note that after backspacing an empty text, the text will continue empty.\n",
        "\n",
        "**Example 1:**\n",
        "\n",
        "**Input:** s = \"ab#c\", t = \"ad#c\"\n",
        "\n",
        "**Output:** true\n",
        "\n",
        "**Explanation:**\n",
        "\n",
        "Both s and t become \"ac\".\n",
        "\n",
        "</aside>"
      ],
      "metadata": {
        "id": "unfGXExwWnuj"
      }
    },
    {
      "cell_type": "code",
      "source": [
        "class Solution(object):\n",
        "    def backspaceCompare(self, s, t):\n",
        "        def build_string(string):\n",
        "            stack = []\n",
        "            for char in string:\n",
        "                if char != '#':\n",
        "                    stack.append(char)\n",
        "                elif stack:\n",
        "                    stack.pop()\n",
        "            return \"\".join(stack)\n",
        "\n",
        "        return build_string(s) == build_string(t)\n",
        "\n",
        "\n",
        "s = \"ab#c\"\n",
        "t = \"ad#c\"\n",
        "\n",
        "solution = Solution()\n",
        "print(solution.backspaceCompare(s, t))"
      ],
      "metadata": {
        "colab": {
          "base_uri": "https://localhost:8080/"
        },
        "id": "UrMgw02mWhlO",
        "outputId": "f5b7aeb7-a948-4d6c-c34e-129b583ec6a8"
      },
      "execution_count": 3,
      "outputs": [
        {
          "output_type": "stream",
          "name": "stdout",
          "text": [
            "True\n"
          ]
        }
      ]
    },
    {
      "cell_type": "markdown",
      "source": [
        "<aside>\n",
        "💡 **Question 8**\n",
        "\n",
        "You are given an array coordinates, coordinates[i] = [x, y], where [x, y] represents the coordinate of a point. Check if these points make a straight line in the XY plane.\n",
        "\n",
        "**Example 1:**\n",
        "**Input:** coordinates = [[1,2],[2,3],[3,4],[4,5],[5,6],[6,7]]\n",
        "\n",
        "**Output:** true\n",
        "</aside>"
      ],
      "metadata": {
        "id": "mbJfZE2KW3lI"
      }
    },
    {
      "cell_type": "code",
      "source": [
        "class Solution(object):\n",
        "    def checkStraightLine(self, coordinates):\n",
        "        if len(coordinates) <= 2:\n",
        "            return True\n",
        "\n",
        "        x1, y1 = coordinates[0]\n",
        "        x2, y2 = coordinates[1]\n",
        "        for i in range(2, len(coordinates)):\n",
        "            x, y = coordinates[i]\n",
        "            if (y2 - y1) * (x - x1) != (y - y1) * (x2 - x1):\n",
        "                return False\n",
        "        return True\n",
        "\n",
        "coordinates = [[1, 2], [2, 3], [3, 4], [4, 5], [5, 6], [6, 7]]\n",
        "\n",
        "solution = Solution()\n",
        "print(solution.checkStraightLine(coordinates))"
      ],
      "metadata": {
        "colab": {
          "base_uri": "https://localhost:8080/"
        },
        "id": "Nr7oEodqWzYY",
        "outputId": "ab15c11d-8d8a-491c-aa38-a81118a93e82"
      },
      "execution_count": 4,
      "outputs": [
        {
          "output_type": "stream",
          "name": "stdout",
          "text": [
            "True\n"
          ]
        }
      ]
    }
  ]
}